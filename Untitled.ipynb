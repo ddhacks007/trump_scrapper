{
 "cells": [
  {
   "cell_type": "code",
   "execution_count": 30,
   "metadata": {},
   "outputs": [
    {
     "name": "stdout",
     "output_type": "stream",
     "text": [
      "*******************test-initiated********************\n",
      "the number of tests passed for the word count service  3/3\n",
      "the number of tests passed for the context day exists  9/9\n",
      "the number of tests passed for the context year exists  14/14\n",
      "the number of tests passed for the context month exists  9/9\n",
      "the number of tests passed for the word_trump_exists is  8/8\n",
      "test pass percentage rate is 100 %\n",
      "****************scrapping initiated for the url https://en.wikipedia.org/wiki/Donald_Trump\n",
      "*******completed***** 0%\n",
      "*******completed***** 50%\n",
      "*******completed***** 100%\n",
      "*************scraping completed for the url https://en.wikipedia.org/wiki/Donald_Trump\n",
      "****************scrapping initiated for the url https://www.nytimes.com/2019/08/18/us/politics/trump-economy-recession.html?rref=collection%2Ftimestopic%2FTrump%2C%20Donald%20J.&action=click&contentCollection=timestopics&region=stream&module=stream_unit&version=latest&contentPlacement=3&pgtype=collection\n",
      "*******completed***** 0%\n",
      "*******completed***** 10%\n",
      "*******completed***** 20%\n",
      "*******completed***** 30%\n",
      "*******completed***** 40%\n",
      "*******completed***** 50%\n",
      "*******completed***** 60%\n",
      "*******completed***** 70%\n",
      "*******completed***** 80%\n",
      "*******completed***** 90%\n",
      "*******completed***** 100%\n",
      "*************scraping completed for the url https://www.nytimes.com/2019/08/18/us/politics/trump-economy-recession.html?rref=collection%2Ftimestopic%2FTrump%2C%20Donald%20J.&action=click&contentCollection=timestopics&region=stream&module=stream_unit&version=latest&contentPlacement=3&pgtype=collection\n",
      "****************scrapping initiated for the url https://www.theguardian.com/us-news/2019/aug/19/why-does-donald-trump-want-to-buy-greenland\n",
      "*******completed***** 0%\n",
      "*******completed***** 20%\n",
      "*******completed***** 40%\n",
      "*******completed***** 60%\n",
      "*******completed***** 80%\n",
      "*******completed***** 100%\n",
      "*************scraping completed for the url https://www.theguardian.com/us-news/2019/aug/19/why-does-donald-trump-want-to-buy-greenland\n",
      "your requested_data is successfully_stored in  json_results/results.json\n"
     ]
    }
   ],
   "source": [
    "import sys\n",
    "import scrapper_text\n",
    "import logical_operations\n",
    "import loader_information\n",
    "import os_operations\n",
    "import unit_testing\n",
    "\n",
    "month_names = None\n",
    "requested_url = \"https://en.wikipedia.org/wiki/Donald_Trump https://www.nytimes.com/2019/08/18/us/politics/trump-economy-recession.html?rref=collection%2Ftimestopic%2FTrump%2C%20Donald%20J.&action=click&contentCollection=timestopics&region=stream&module=stream_unit&version=latest&contentPlacement=3&pgtype=collection https://www.theguardian.com/us-news/2019/aug/19/why-does-donald-trump-want-to-buy-greenland\"\n",
    "\n",
    "def find_the_required_params(init_dict, text, index, iterable, requested_name):\n",
    "    if(logical_operations.check_word_exists(text, requested_name)):\n",
    "        logical_operations.update_requested_word_index(init_dict)\n",
    "        return\n",
    "    if(logical_operations.check_if_month(text, update=True, update_dict=init_dict)):\n",
    "        return\n",
    "    if(logical_operations.check_if_year(text, index, iterable, update=True, update_dicts=init_dict)):\n",
    "        return\n",
    "    text = logical_operations.day_text_extraction(text)\n",
    "    if text.isdigit():\n",
    "        if(logical_operations.check_if_day(text, index, iterable)):\n",
    "            logical_operations.update_day(init_dict, text)\n",
    "        \n",
    "def retrieve_information(init_dict, iterable, requested_name):\n",
    "    length_of_corpus = len(iterable)\n",
    "    for index, text in enumerate(iterable):\n",
    "        find_the_required_params(init_dict, text, index, iterable, requested_name)\n",
    "        loader_information.info_about_lodder(length_of_corpus-1, index)\n",
    "    init_dict['total_number_of_words_occur'] = len(iterable) - 1\n",
    "    return init_dict\n",
    "\n",
    "def runner_run(url_name, requested_name = 'trump'):\n",
    "    global month_names\n",
    "    print('****************scrapping initiated for the url', str(url_name))\n",
    "    month_names = logical_operations.init_month_names()\n",
    "    scrapped_text = scrapper_text.scrap_it(url_name)\n",
    "    init_dict = scrapper_text.init_scrapper_info()\n",
    "    init_dict = retrieve_information(init_dict, scrapper_text.clean_text(scrapped_text.lower()), requested_name)\n",
    "    print('*************scraping completed for the url', url_name)\n",
    "    return init_dict\n",
    "    \n",
    "if __name__=='__main__':\n",
    "    final_dict = {}\n",
    "    unit_testing.run_tests()\n",
    "    for url_name in requested_url.split(' '):\n",
    "        init_dict = runner_run(url_name)\n",
    "        final_dict[url_name] = init_dict.copy()\n",
    "    os_operations.save_to_json('results', final_dict)"
   ]
  },
  {
   "cell_type": "code",
   "execution_count": 24,
   "metadata": {},
   "outputs": [
    {
     "data": {
      "text/plain": [
       "{'https://en.wikipedia.org/wiki/Donald_Trump': {'no_of_times_the_requested_word_occurs': 1460,\n",
       "  'no_of_times_year_month_day': {'day': {'20': 70,\n",
       "    '14': 63,\n",
       "    '18': 63,\n",
       "    '10': 46,\n",
       "    '30': 37,\n",
       "    '25': 43,\n",
       "    '19': 54,\n",
       "    '23': 44,\n",
       "    '16': 53,\n",
       "    '3': 71,\n",
       "    '6': 48,\n",
       "    '15': 49,\n",
       "    '26': 34,\n",
       "    '8': 46,\n",
       "    '21': 63,\n",
       "    '29': 42,\n",
       "    '31': 30,\n",
       "    '13': 40,\n",
       "    '1': 46,\n",
       "    '27': 36,\n",
       "    '5': 48,\n",
       "    '24': 39,\n",
       "    '4': 43,\n",
       "    '22': 66,\n",
       "    '12': 50,\n",
       "    '11': 38,\n",
       "    '28': 44,\n",
       "    '9': 64,\n",
       "    '17': 44,\n",
       "    '2': 53,\n",
       "    '7': 51},\n",
       "   'month': {'jan': 186,\n",
       "    'jun': 174,\n",
       "    'mar': 176,\n",
       "    'may': 214,\n",
       "    'jul': 184,\n",
       "    'oct': 99,\n",
       "    'dec': 136,\n",
       "    'sep': 84,\n",
       "    'feb': 115,\n",
       "    'apr': 106,\n",
       "    'nov': 80,\n",
       "    'aug': 123},\n",
       "   'year': {'2017': 364,\n",
       "    '1946': 3,\n",
       "    '2019': 300,\n",
       "    '2018': 382,\n",
       "    '2016': 371,\n",
       "    '2020': 3,\n",
       "    '1971': 3,\n",
       "    '1964': 3,\n",
       "    '1968': 5,\n",
       "    '2015': 118,\n",
       "    '1966': 1,\n",
       "    '1972': 2,\n",
       "    '1969': 2,\n",
       "    '1973': 2,\n",
       "    '1988': 13,\n",
       "    '1885': 1,\n",
       "    '1892': 1,\n",
       "    '1902': 1,\n",
       "    '1905': 2,\n",
       "    '1923': 1,\n",
       "    '1990': 13,\n",
       "    '1930': 2,\n",
       "    '1936': 2,\n",
       "    '1977': 2,\n",
       "    '1992': 4,\n",
       "    '1993': 5,\n",
       "    '1999': 6,\n",
       "    '2005': 11,\n",
       "    '2006': 2,\n",
       "    '1970': 3,\n",
       "    '1982': 1,\n",
       "    '1980': 9,\n",
       "    '1984': 2,\n",
       "    '1995': 6,\n",
       "    '1975': 2,\n",
       "    '1978': 1,\n",
       "    '1983': 4,\n",
       "    '1986': 7,\n",
       "    '1994': 2,\n",
       "    '1996': 2,\n",
       "    '1997': 2,\n",
       "    '2001': 3,\n",
       "    '2002': 6,\n",
       "    '2004': 4,\n",
       "    '2009': 7,\n",
       "    '1985': 2,\n",
       "    '1920': 1,\n",
       "    '2007': 9,\n",
       "    '2000': 4,\n",
       "    '2010': 3,\n",
       "    '2011': 34,\n",
       "    '1989': 2,\n",
       "    '2013': 16,\n",
       "    '1987': 5,\n",
       "    '2003': 1,\n",
       "    '2008': 4,\n",
       "    '2012': 9,\n",
       "    '2014': 10,\n",
       "    '1976': 1,\n",
       "    '2025': 1,\n",
       "    '1824': 2,\n",
       "    '1876': 1,\n",
       "    '1927': 2,\n",
       "    '1991': 2}},\n",
       "  'total_number_of_words_occur': 43658},\n",
       " 'https://www.theguardian.com/us-news/2019/aug/19/why-does-donald-trump-want-to-buy-greenland': {'no_of_times_the_requested_word_occurs': 28,\n",
       "  'no_of_times_year_month_day': {'day': {'19': 2,\n",
       "    '20': 1,\n",
       "    '26': 1,\n",
       "    '21': 2,\n",
       "    '18': 1,\n",
       "    '16': 2,\n",
       "    '13': 2,\n",
       "    '12': 1},\n",
       "   'month': {'aug': 11},\n",
       "   'year': {'2019': 11,\n",
       "    '1867': 1,\n",
       "    '1803': 1,\n",
       "    '1916': 1,\n",
       "    '1979': 1,\n",
       "    '2008': 1,\n",
       "    '1985': 1,\n",
       "    '1940': 1,\n",
       "    '2007': 1}},\n",
       "  'total_number_of_words_occur': 1785},\n",
       " 'https://www.nytimes.com/2019/08/18/us/politics/trump-economy-recession.html?rref=collection%2Ftimestopic%2FTrump%2C%20Donald%20J.&action=click&contentCollection=timestopics&region=stream&module=stream_unit&version=latest&contentPlacement=3&pgtype=collection': {'no_of_times_the_requested_word_occurs': 24,\n",
       "  'no_of_times_year_month_day': {'day': {'18': 1, '15': 1, '17': 1, '16': 1},\n",
       "   'month': {'aug': 5, 'may': 1},\n",
       "   'year': {'2019': 4, '2020': 1, '2016': 1}},\n",
       "  'total_number_of_words_occur': 1720}}"
      ]
     },
     "execution_count": 24,
     "metadata": {},
     "output_type": "execute_result"
    }
   ],
   "source": [
    "final_dict"
   ]
  },
  {
   "cell_type": "code",
   "execution_count": null,
   "metadata": {},
   "outputs": [],
   "source": [
    "uuid.uuid4().int\n"
   ]
  },
  {
   "cell_type": "code",
   "execution_count": null,
   "metadata": {},
   "outputs": [],
   "source": [
    "'https://en.wikipedia.org/wiki/Donald_Trump'.split('.')"
   ]
  },
  {
   "cell_type": "code",
   "execution_count": 8,
   "metadata": {},
   "outputs": [
    {
     "data": {
      "text/plain": [
       "['https://en.wikipedia.org/wiki/Donald_Trump',\n",
       " 'https://www.nytimes.com/2019/08/18/us/politics/trump-economy-recession.html?rref=collection%2Ftimestopic%2FTrump%2C%20Donald%20J.&action=click&contentCollection=timestopics&region=stream&module=stream_unit&version=latest&contentPlacement=3&pgtype=collection',\n",
       " 'https://www.theguardian.com/us-news/2019/aug/19/why-does-donald-trump-want-to-buy-greenland']"
      ]
     },
     "execution_count": 8,
     "metadata": {},
     "output_type": "execute_result"
    }
   ],
   "source": [
    "\"https://en.wikipedia.org/wiki/Donald_Trump https://www.nytimes.com/2019/08/18/us/politics/trump-economy-recession.html?rref=collection%2Ftimestopic%2FTrump%2C%20Donald%20J.&action=click&contentCollection=timestopics&region=stream&module=stream_unit&version=latest&contentPlacement=3&pgtype=collection https://www.theguardian.com/us-news/2019/aug/19/why-does-donald-trump-want-to-buy-greenland\".split(' ')"
   ]
  },
  {
   "cell_type": "code",
   "execution_count": 32,
   "metadata": {},
   "outputs": [],
   "source": [
    "import urllib"
   ]
  },
  {
   "cell_type": "code",
   "execution_count": 33,
   "metadata": {},
   "outputs": [
    {
     "ename": "AttributeError",
     "evalue": "module 'urllib' has no attribute '__version__'",
     "output_type": "error",
     "traceback": [
      "\u001b[0;31m---------------------------------------------------------------------------\u001b[0m",
      "\u001b[0;31mAttributeError\u001b[0m                            Traceback (most recent call last)",
      "\u001b[0;32m<ipython-input-33-5b6b97269744>\u001b[0m in \u001b[0;36m<module>\u001b[0;34m\u001b[0m\n\u001b[0;32m----> 1\u001b[0;31m \u001b[0murllib\u001b[0m\u001b[0;34m.\u001b[0m\u001b[0m__version__\u001b[0m\u001b[0;34m\u001b[0m\u001b[0;34m\u001b[0m\u001b[0m\n\u001b[0m",
      "\u001b[0;31mAttributeError\u001b[0m: module 'urllib' has no attribute '__version__'"
     ]
    }
   ],
   "source": [
    "urllib.__version__"
   ]
  },
  {
   "cell_type": "code",
   "execution_count": null,
   "metadata": {},
   "outputs": [],
   "source": []
  }
 ],
 "metadata": {
  "kernelspec": {
   "display_name": "Python 3",
   "language": "python",
   "name": "python3"
  },
  "language_info": {
   "codemirror_mode": {
    "name": "ipython",
    "version": 3
   },
   "file_extension": ".py",
   "mimetype": "text/x-python",
   "name": "python",
   "nbconvert_exporter": "python",
   "pygments_lexer": "ipython3",
   "version": "3.7.1"
  }
 },
 "nbformat": 4,
 "nbformat_minor": 2
}
